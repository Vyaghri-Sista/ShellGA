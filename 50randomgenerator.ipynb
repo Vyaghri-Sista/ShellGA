{
 "cells": [
  {
   "cell_type": "code",
   "execution_count": 7,
   "metadata": {},
   "outputs": [
    {
     "data": {
      "image/png": "[encoded data removed]",
      "text/plain": [
       "<Figure size 432x288 with 1 Axes>"
      ]
     },
     "metadata": {
      "needs_background": "light"
     },
     "output_type": "display_data"
    }
   ],
   "source": [
    "import pandas as pd\n",
    "import numpy as np\n",
    "import random as rnd\n",
    "import matplotlib.pyplot as plt\n",
    "import seaborn as sns\n",
    "%matplotlib inline\n",
    "import math\n",
    "\n",
    "n_points=50\n",
    "x,y =np.zeros(n_points),np.zeros(n_points)\n",
    "x[0],y[0]=np.round(rnd.uniform(50.0,3950.0)),np.round(rnd.uniform(50.0,3950.00))\n",
    "min_distances=[]\n",
    "i=1\n",
    "while i<n_points:\n",
    "    x_temp,y_temp=np.round(rnd.uniform(50.00,3950.0),decimals=3),np.round(rnd.uniform(50.0,3950.0),decimals=3)\n",
    "    distances=[]\n",
    "    for j in range(0,i):\n",
    "        distances.append(np.sqrt((x_temp-x[j])**2+(y_temp-y[j])**2))\n",
    "    min_distance=np.min(distances)\n",
    "    if min_distance>=400.00:\n",
    "        min_distances.append(min_distance)\n",
    "        x[i]=x_temp\n",
    "        y[i]=y_temp\n",
    "        i=i+1\n",
    "        \n",
    "# print(x,y)\n",
    "sns.scatterplot(x,y)\n",
    "# print(len(x))    \n",
    "z=[x,y]\n",
    "columns_values=['x','y']\n",
    "df=pd.DataFrame(data=np.transpose(z),columns=columns_values)\n",
    "df.to_csv('turbine_loc_test4.csv',index=False)"
   ]
  },
  {
   "cell_type": "code",
   "execution_count": 2,
   "metadata": {},
   "outputs": [],
   "source": [
    "# x=random.sample(range(30,3950),1000)\n",
    "# y=random.sample(range(30,3950),1000)\n",
    "# minAllowableDistance=400\n",
    "# numberOfPoints = 400\n",
    "# numberOfTurbines=51\n",
    "# keeperX=[]\n",
    "# keeperY=[]\n",
    "# keeperX = x[0]\n",
    "# keeperY = y[0]\n",
    "# counter = 2\n",
    "\n",
    "# for k = 2 : numberOfPoints:\n",
    "#         thisX=x[k]\n",
    "#         thisY = y[k]\n",
    "#          distances = math.sqrt((thisX-keeperX)**2 + (thisY - keeperY)**2);\n",
    "#          minDistance = min(distances)\n",
    "#          if minDistance >= minAllowableDistance:\n",
    "#                 keeperX.append(thisX)\n",
    "#                 keeperY.append(thisY)\n",
    "#                 counter = counter + 1\n",
    "#                 if counter == numberOfTurbines:\n",
    "#                     break\n",
    "# #   # Get a trial point.\n",
    "# #   thisX = x(k);\n",
    "# #   thisY = y(k);\n",
    "# #   % See how far is is away from existing keeper points.\n",
    "# #   distances = math.sqrt((thisX-keeperX)**2 + (thisY - keeperY)**2);\n",
    "# #   minDistance = min(distances)\n",
    "  \n"
   ]
  },
  {
   "cell_type": "code",
   "execution_count": null,
   "metadata": {},
   "outputs": [],
   "source": [
    " "
   ]
  }
 ],
 "metadata": {
  "kernelspec": {
   "display_name": "Python 3",
   "language": "python",
   "name": "python3"
  },
  "language_info": {
   "codemirror_mode": {
    "name": "ipython",
    "version": 3
   },
   "file_extension": ".py",
   "mimetype": "text/x-python",
   "name": "python",
   "nbconvert_exporter": "python",
   "pygments_lexer": "ipython3",
   "version": "3.8.3"
  }
 },
 "nbformat": 4,
 "nbformat_minor": 4
}
